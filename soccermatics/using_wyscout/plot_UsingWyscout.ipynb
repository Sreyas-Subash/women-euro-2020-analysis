{
  "cells": [
    {
      "cell_type": "code",
      "execution_count": null,
      "metadata": {
        "collapsed": false
      },
      "outputs": [],
      "source": [
        "%matplotlib inline"
      ]
    },
    {
      "cell_type": "markdown",
      "metadata": {},
      "source": [
        "\n# Using Wyscout \n\nGetting familiar with Wyscout data\n"
      ]
    },
    {
      "cell_type": "code",
      "execution_count": null,
      "metadata": {
        "collapsed": false
      },
      "outputs": [],
      "source": [
        "#importing necessary libraries\nimport pathlib\nimport os\nimport pandas as pd\nimport json"
      ]
    },
    {
      "cell_type": "markdown",
      "metadata": {},
      "source": [
        "## Competition data\nIn this dataframe you will find information about the id of a competition and available competitions.\nIf you are trying it locally, comment  ..... active lines (put # in front lines path = ...) and comment out (delete #).\n\n"
      ]
    },
    {
      "cell_type": "code",
      "execution_count": null,
      "metadata": {
        "collapsed": false
      },
      "outputs": [],
      "source": [
        "#path to data\npath = os.path.join(str(pathlib.Path().resolve()), 'data', 'Wyscout', 'competitions.json') # put # in front if used locally\n#path = os.path.join(str(pathlib.Path().resolve()), 'Wyscout', 'competitions.json') # delete #\n\n#open data \nwith open(path) as f:\n    data = json.load(f)\n    #save it in dataframe \ndf_competitions = pd.DataFrame(data)\n#structure of data\ndf_competitions.info()"
      ]
    },
    {
      "cell_type": "markdown",
      "metadata": {},
      "source": [
        "## Match data\nIn this dataframe you can find information about all games that were played in Premier League 2017/18 season.\n*wyId* is the unique id in the Wyscout database. \n\n"
      ]
    },
    {
      "cell_type": "code",
      "execution_count": null,
      "metadata": {
        "collapsed": false
      },
      "outputs": [],
      "source": [
        "#path to data \npath = os.path.join(str(pathlib.Path().resolve()), 'data', 'Wyscout', 'matches_England.json') # put # in front if used locally\n#path = os.path.join(str(pathlib.Path().resolve()), 'data', 'Wyscout', 'matches_England.json') # delete #\nwith open(path) as f:\n    data = json.load(f)\n#save it in a dataframe  \ndf_matches = pd.DataFrame(data)\n#structure of data\ndf_matches.info()"
      ]
    },
    {
      "cell_type": "markdown",
      "metadata": {},
      "source": [
        "## Player data\nIn this dataframe you can find information about all players available for Wyscout public dataset. *wyId* is \nthe player id in the Wyscout database. In the *currentTeamId* you can find the id of a team that the player plays form.\n*shortName* is an important column for vizualisations and rankings since player's name is written in a shorter way.\n\n"
      ]
    },
    {
      "cell_type": "code",
      "execution_count": null,
      "metadata": {
        "collapsed": false
      },
      "outputs": [],
      "source": [
        "#path to data\npath = os.path.join(str(pathlib.Path().resolve()), 'data', 'Wyscout', 'players.json') # put # in front if used locally\n#path = os.path.join(str(pathlib.Path().resolve()), 'data', 'Wyscout', 'players.json')  \n#open data\nwith open(path) as f:\n    data = json.load(f)\n#save it in a dataframe  \ndf_players = pd.DataFrame(data)\n#structure of data\ndf_players.info()"
      ]
    },
    {
      "cell_type": "markdown",
      "metadata": {},
      "source": [
        "## Event data\nIn this dataframe you can find information about all events that occured in all the games during 2017/18 Premier League\nseason. *matchId* matches the wyId from *df_matches*, *playerId* matches *wyId* from *df_players*.*tags* provide information on additional characteristics of an event, for example\nif the pass was accurate. The location on the pass can be found in *positions*, but remeber, that the data are collected\non 100x100 square with reverted y-axis. In the *eventName* you will find the basic name of an event, whereas *subEventName*\nprovide more information. *eventSec* is the time of an event.\n\nIf you want to learn more about Wyscout data, you can explore \n[WyScout API](https://apidocs.wyscout.com/), but remember to switch the version to 2.0 at the top of the page.\n\nThis code is adjusted to the webpage with file size limit. If you want to open the data that is stored in the working\ndirectory, comment (put '#') before the following code and comment out the lines below them (delete '#').\n\n"
      ]
    },
    {
      "cell_type": "code",
      "execution_count": null,
      "metadata": {
        "collapsed": false
      },
      "outputs": [],
      "source": [
        "#prepare empty dataframe\ndf_events = pd.DataFrame() # put # in front if used locally\nfor i in range(13): # put # in front if used locally\n    #get file name and path to it\n    file_name = 'events_England_' + str(i+1) + '.json' # put # in front if used locally\n    path = os.path.join(str(pathlib.Path().resolve()), 'data', 'Wyscout', file_name) # put # in front if used locally\n    #open data\n    with open(path) as f: # put # in front if used locally\n        data = json.load(f) # put # in front if used locally\n    #append data to the dataframe\n    df_events = pd.concat([df_events, pd.DataFrame(data)]) # put # in front if used locally\n\n\n#path = os.path.join(str(pathlib.Path().resolve()), 'Wyscout', 'events_England_.json') # delete #\n#with open(path) as f: # delete #\n    #data = json.load(f) # delete #\n#df_events = pd.DataFrame(data) # delete #\n\n#structure of data\ndf_events.info()"
      ]
    },
    {
      "cell_type": "markdown",
      "metadata": {},
      "source": [
        "## Before you start\nRun these lines in Spyder/Jupyter notebook and explore dataframes \nto get more familiar before you start working on the course.\n"
      ]
    }
  ],
  "metadata": {
    "kernelspec": {
      "display_name": "Python 3",
      "language": "python",
      "name": "python3"
    },
    "language_info": {
      "codemirror_mode": {
        "name": "ipython",
        "version": 3
      },
      "file_extension": ".py",
      "mimetype": "text/x-python",
      "name": "python",
      "nbconvert_exporter": "python",
      "pygments_lexer": "ipython3",
      "version": "3.10.9"
    }
  },
  "nbformat": 4,
  "nbformat_minor": 0
}