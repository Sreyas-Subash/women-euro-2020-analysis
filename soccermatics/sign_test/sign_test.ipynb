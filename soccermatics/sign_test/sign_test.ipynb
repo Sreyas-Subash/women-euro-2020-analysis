{
 "cells": [
  {
   "cell_type": "code",
   "execution_count": 1,
   "id": "24718636-6384-4fb2-a899-b95334a569a0",
   "metadata": {},
   "outputs": [],
   "source": [
    "import pandas as pd\n",
    "import numpy as np\n",
    "import json\n",
    "# plotting\n",
    "import matplotlib.pyplot as plt\n",
    "#opening data\n",
    "import os\n",
    "import pathlib\n",
    "import warnings\n",
    "\n",
    "pd.options.mode.chained_assignment = None\n",
    "warnings.filterwarnings('ignore')"
   ]
  },
  {
   "cell_type": "code",
   "execution_count": 2,
   "id": "3151c92f-838f-4015-b548-6bc9432683f0",
   "metadata": {},
   "outputs": [
    {
     "name": "stdout",
     "output_type": "stream",
     "text": [
      "<class 'pandas.core.frame.DataFrame'>\n",
      "RangeIndex: 643150 entries, 0 to 643149\n",
      "Data columns (total 12 columns):\n",
      " #   Column        Non-Null Count   Dtype  \n",
      "---  ------        --------------   -----  \n",
      " 0   eventId       643150 non-null  int64  \n",
      " 1   subEventName  643150 non-null  object \n",
      " 2   tags          643150 non-null  object \n",
      " 3   playerId      643150 non-null  int64  \n",
      " 4   positions     643150 non-null  object \n",
      " 5   matchId       643150 non-null  int64  \n",
      " 6   eventName     643150 non-null  object \n",
      " 7   teamId        643150 non-null  int64  \n",
      " 8   matchPeriod   643150 non-null  object \n",
      " 9   eventSec      643150 non-null  float64\n",
      " 10  subEventId    643150 non-null  object \n",
      " 11  id            643150 non-null  int64  \n",
      "dtypes: float64(1), int64(5), object(6)\n",
      "memory usage: 58.9+ MB\n"
     ]
    }
   ],
   "source": [
    "path = os.path.join('D:\\\\python_projects\\\\soccermatics\\\\using_wyscout', 'Wyscout', 'events_England.json') # delete #\n",
    "\n",
    "with open(path) as f: # delete #\n",
    "    data = json.load(f) # delete #\n",
    "train = pd.DataFrame(data) # delete #\n",
    "\n",
    "#structure of data\n",
    "train.info()"
   ]
  },
  {
   "cell_type": "code",
   "execution_count": 3,
   "id": "b54fb7e8-5389-48f2-a397-91f663bd551c",
   "metadata": {},
   "outputs": [
    {
     "name": "stdout",
     "output_type": "stream",
     "text": [
      "<class 'pandas.core.frame.DataFrame'>\n",
      "RangeIndex: 3603 entries, 0 to 3602\n",
      "Data columns (total 14 columns):\n",
      " #   Column                 Non-Null Count  Dtype \n",
      "---  ------                 --------------  ----- \n",
      " 0   passportArea           3603 non-null   object\n",
      " 1   weight                 3603 non-null   int64 \n",
      " 2   firstName              3603 non-null   object\n",
      " 3   middleName             3603 non-null   object\n",
      " 4   lastName               3603 non-null   object\n",
      " 5   currentTeamId          3512 non-null   object\n",
      " 6   birthDate              3603 non-null   object\n",
      " 7   height                 3603 non-null   int64 \n",
      " 8   role                   3603 non-null   object\n",
      " 9   birthArea              3603 non-null   object\n",
      " 10  wyId                   3603 non-null   int64 \n",
      " 11  foot                   3603 non-null   object\n",
      " 12  shortName              3603 non-null   object\n",
      " 13  currentNationalTeamId  3603 non-null   object\n",
      "dtypes: int64(3), object(11)\n",
      "memory usage: 394.2+ KB\n"
     ]
    }
   ],
   "source": [
    "path = os.path.join('D:\\\\python_projects\\\\soccermatics\\\\using_wyscout', 'Wyscout', 'players.json') # delete #\n",
    "\n",
    "with open(path) as f: # delete #\n",
    "    data = json.load(f) # delete #\n",
    "player_df = pd.DataFrame(data) # delete #\n",
    "\n",
    "#structure of data\n",
    "player_df.info()"
   ]
  },
  {
   "cell_type": "code",
   "execution_count": 4,
   "id": "de39fb36-ff7a-47f9-a8c3-63e6927d9815",
   "metadata": {},
   "outputs": [
    {
     "data": {
      "text/plain": [
       "array(['Simple pass', 'High pass', 'Head pass', 'Air duel',\n",
       "       'Ground loose ball duel', 'Smart pass', 'Launch',\n",
       "       'Ground defending duel', 'Ground attacking duel', 'Foul',\n",
       "       'Free Kick', 'Cross', 'Shot', 'Reflexes', 'Touch', 'Clearance',\n",
       "       'Ball out of the field', 'Throw in', 'Goal kick', 'Corner',\n",
       "       'Goalkeeper leaving line', 'Hand pass', 'Acceleration',\n",
       "       'Save attempt', '', 'Free kick cross', 'Free kick shot',\n",
       "       'Hand foul', 'Violent Foul', 'Protest', 'Whistle',\n",
       "       'Late card foul', 'Out of game foul', 'Penalty', 'Time lost foul',\n",
       "       'Simulation'], dtype=object)"
      ]
     },
     "execution_count": 4,
     "metadata": {},
     "output_type": "execute_result"
    }
   ],
   "source": [
    "train['subEventName'].unique()"
   ]
  },
  {
   "cell_type": "code",
   "execution_count": 5,
   "id": "13ed3e10-d5cf-4a64-b6e8-0cccb25d0b82",
   "metadata": {},
   "outputs": [],
   "source": [
    "#take shots only\n",
    "shots = train.loc[train['subEventName'] == 'Shot']\n",
    "#look for son's id\n",
    "son_id = player_df.loc[player_df[\"shortName\"] == \"Son Heung-Min\",\"wyId\"].iloc[0]\n",
    "#get son's shot\n",
    "son_shots = shots.loc[shots[\"playerId\"] == son_id]\n"
   ]
  },
  {
   "cell_type": "code",
   "execution_count": 6,
   "id": "a4af9f05-159f-4db7-b57e-995c1b9981cb",
   "metadata": {},
   "outputs": [
    {
     "data": {
      "text/plain": [
       "27"
      ]
     },
     "execution_count": 6,
     "metadata": {},
     "output_type": "execute_result"
    }
   ],
   "source": [
    "#left leg shots\n",
    "lefty_shots = son_shots.loc[son_shots.tags.apply (lambda x:{'id':401} in x)]\n",
    "len(lefty_shots)"
   ]
  },
  {
   "cell_type": "code",
   "execution_count": 7,
   "id": "5f4c3fcc-64ab-435e-88af-70d40ee6ded1",
   "metadata": {},
   "outputs": [
    {
     "data": {
      "text/plain": [
       "40"
      ]
     },
     "execution_count": 7,
     "metadata": {},
     "output_type": "execute_result"
    }
   ],
   "source": [
    "#right leg shots\n",
    "righty_shots = son_shots.loc[son_shots.apply (lambda x:{'id':402} in x.tags, axis = 1)]\n",
    "len(righty_shots)"
   ]
  },
  {
   "cell_type": "code",
   "execution_count": 8,
   "id": "c32a5a77-5fcb-46bf-a524-eb446fd4397e",
   "metadata": {},
   "outputs": [],
   "source": [
    "l = [1] * len(lefty_shots)\n",
    "l.extend([-1] * len(righty_shots))"
   ]
  },
  {
   "cell_type": "code",
   "execution_count": 9,
   "id": "a87f18cd-9a1c-4f34-9fcc-42027942f1a6",
   "metadata": {},
   "outputs": [
    {
     "data": {
      "text/plain": [
       "(-6.5, 0.1420713794263756)"
      ]
     },
     "execution_count": 9,
     "metadata": {},
     "output_type": "execute_result"
    }
   ],
   "source": [
    "from statsmodels.stats.descriptivestats import sign_test\n",
    "test = sign_test(l, mu0 = 0)\n",
    "test"
   ]
  },
  {
   "cell_type": "code",
   "execution_count": null,
   "id": "f160e806-903b-4349-a707-e4304c8cd23f",
   "metadata": {},
   "outputs": [],
   "source": []
  },
  {
   "cell_type": "code",
   "execution_count": null,
   "id": "1582d53e-56e7-4168-b2ab-256d1dada3a8",
   "metadata": {},
   "outputs": [],
   "source": []
  }
 ],
 "metadata": {
  "kernelspec": {
   "display_name": "Python 3 (ipykernel)",
   "language": "python",
   "name": "python3"
  },
  "language_info": {
   "codemirror_mode": {
    "name": "ipython",
    "version": 3
   },
   "file_extension": ".py",
   "mimetype": "text/x-python",
   "name": "python",
   "nbconvert_exporter": "python",
   "pygments_lexer": "ipython3",
   "version": "3.11.1"
  },
  "widgets": {
   "application/vnd.jupyter.widget-state+json": {
    "state": {},
    "version_major": 2,
    "version_minor": 0
   }
  }
 },
 "nbformat": 4,
 "nbformat_minor": 5
}
