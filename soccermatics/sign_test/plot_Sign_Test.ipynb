{
  "cells": [
    {
      "cell_type": "code",
      "execution_count": null,
      "metadata": {
        "collapsed": false
      },
      "outputs": [],
      "source": [
        "%matplotlib inline"
      ]
    },
    {
      "cell_type": "markdown",
      "metadata": {},
      "source": [
        "\n# Sign test\nIn this tutorial we demonstrate how to check equal size of two samples using the sign test. To do so, we provide an example\nin which we check if Heung-Min Son shoots with both feet the same number of times. \n"
      ]
    },
    {
      "cell_type": "code",
      "execution_count": null,
      "metadata": {
        "collapsed": false
      },
      "outputs": [],
      "source": [
        "import pandas as pd\nimport numpy as np\nimport json\n# plotting\nimport matplotlib.pyplot as plt\n#opening data\nimport os\nimport pathlib\nimport warnings\n\npd.options.mode.chained_assignment = None\nwarnings.filterwarnings('ignore')"
      ]
    },
    {
      "cell_type": "markdown",
      "metadata": {},
      "source": [
        "## Opening the dataset\n\nFirst we open the data. For this example we will use WyScout data from 2017/18 Premier League season.  To meet file size requirements of Github, we have to open it from different files,\nbut you can open the file locally from the directory you saved it in. Also, we open the file containing all players in WyScout database.\n\n"
      ]
    },
    {
      "cell_type": "code",
      "execution_count": null,
      "metadata": {
        "collapsed": false
      },
      "outputs": [],
      "source": [
        "#open event data\ntrain = pd.DataFrame()\nfor i in range(13):\n    file_name = 'events_England_' + str(i+1) + '.json'\n    path = os.path.join(str(pathlib.Path().resolve()), 'data', 'Wyscout', file_name)\n    with open(path) as f:\n        data = json.load(f)\n    train = pd.concat([train, pd.DataFrame(data)])\n    \n    path = os.path.join(str(pathlib.Path().resolve()),\"data\", 'Wyscout', 'players.json')\n\n#open dataset with players\nwith open(path) as f:\n    players = json.load(f)\nplayer_df = pd.DataFrame(players)"
      ]
    },
    {
      "cell_type": "markdown",
      "metadata": {},
      "source": [
        "## Preparing the dataset\n\nFirst, we filter the events to only keep shots. Then, we check for Son's id in the player database. As the next step,\nwe keep shots made by him. Then, we look for the shots made with his left (ones with *id* = 401) and right (ones with *id* = 401) foot.\nIn the end, we create a list with ones for shots with his left foot and -1 for shots with his right foot.\n\n"
      ]
    },
    {
      "cell_type": "code",
      "execution_count": null,
      "metadata": {
        "collapsed": false
      },
      "outputs": [],
      "source": [
        "#take shots only\nshots = train.loc[train['subEventName'] == 'Shot'] \n#look for son's id\nson_id = player_df.loc[player_df[\"shortName\"] == \"Son Heung-Min\"][\"wyId\"].iloc[0]\n#get son's shot\nson_shots = shots.loc[shots[\"playerId\"] == son_id]\n\n#left leg shots\nlefty_shots = son_shots.loc[son_shots.apply (lambda x:{'id':401} in x.tags, axis = 1)]\n#right leg shots\nrighty_shots = son_shots.loc[son_shots.apply (lambda x:{'id':402} in x.tags, axis = 1)]\n\n#create list with ones for left foot shots and -1 for right foot shots   \nl = [1] * len(lefty_shots) \nl.extend([-1] * len(righty_shots))"
      ]
    },
    {
      "cell_type": "markdown",
      "metadata": {},
      "source": [
        "## Testing the hypothesis\n\nNow we can test the hypothesis that Heung-Min Son is indeed ambidextrous. To do so, a [sign test](https://en.wikipedia.org/wiki/Sign_test) is used.\nWe set the significance level at 0.05. After conducting the hypothesis, there's no reason to reject the null hypothesis. Therefore, we claim that\nSon shoots with his right and left foot the same number of times.\n\n"
      ]
    },
    {
      "cell_type": "code",
      "execution_count": null,
      "metadata": {
        "collapsed": false
      },
      "outputs": [],
      "source": [
        "from statsmodels.stats.descriptivestats import sign_test\ntest = sign_test(l, mu0 = 0)\npvalue = test[1]\n\nif pvalue < 0.05:\n    print(\"P-value amounts to\", str(pvalue)[:5], \"- We reject null hypothesis - Heung-Min Son is not ambidextrous\")\nelse:\n    print(\"P-value amounts to\", str(pvalue)[:5], \" - We do not reject null hypothesis - Heung-Min Son is ambidextrous\")"
      ]
    }
  ],
  "metadata": {
    "kernelspec": {
      "display_name": "Python 3",
      "language": "python",
      "name": "python3"
    },
    "language_info": {
      "codemirror_mode": {
        "name": "ipython",
        "version": 3
      },
      "file_extension": ".py",
      "mimetype": "text/x-python",
      "name": "python",
      "nbconvert_exporter": "python",
      "pygments_lexer": "ipython3",
      "version": "3.10.9"
    }
  },
  "nbformat": 4,
  "nbformat_minor": 0
}